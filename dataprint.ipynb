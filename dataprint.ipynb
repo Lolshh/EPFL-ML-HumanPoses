{
 "cells": [
  {
   "cell_type": "code",
   "execution_count": 1,
   "metadata": {},
   "outputs": [],
   "source": [
    "from metrics import*\n",
    "myFile = open(\"/Users/main/Desktop/EPFL/BA3/Intro. to ML/project/datas.txt\", \"w+\")"
   ]
  },
  {
   "cell_type": "code",
   "execution_count": 12,
   "metadata": {},
   "outputs": [
    {
     "ename": "NameError",
     "evalue": "name 'it' is not defined",
     "output_type": "error",
     "traceback": [
      "\u001b[0;31m---------------------------------------------------------------------------\u001b[0m",
      "\u001b[0;31mNameError\u001b[0m                                 Traceback (most recent call last)",
      "\u001b[0;32m<ipython-input-12-7fcc2bb7768b>\u001b[0m in \u001b[0;36m<module>\u001b[0;34m\u001b[0m\n\u001b[1;32m      1\u001b[0m \u001b[0mmyFile\u001b[0m \u001b[0;34m=\u001b[0m \u001b[0mopen\u001b[0m\u001b[0;34m(\u001b[0m\u001b[0;34m\"/Users/main/Desktop/EPFL/BA3/Intro. to ML/project/datas.txt\"\u001b[0m\u001b[0;34m,\u001b[0m \u001b[0;34m\"w+\"\u001b[0m\u001b[0;34m)\u001b[0m\u001b[0;34m\u001b[0m\u001b[0;34m\u001b[0m\u001b[0m\n\u001b[0;32m----> 2\u001b[0;31m \u001b[0mmyFile\u001b[0m\u001b[0;34m.\u001b[0m\u001b[0mwrite\u001b[0m\u001b[0;34m(\u001b[0m\u001b[0;34mf\"Accuracy at step {it} is: {accuracy_fn()} ; \\n\"\u001b[0m\u001b[0;34m)\u001b[0m\u001b[0;34m\u001b[0m\u001b[0;34m\u001b[0m\u001b[0m\n\u001b[0m\u001b[1;32m      3\u001b[0m \u001b[0mmyFile\u001b[0m\u001b[0;34m.\u001b[0m\u001b[0mwrite\u001b[0m\u001b[0;34m(\u001b[0m\u001b[0;34mf\"Macro F1 score at step {it} is: {macrof1_fn()} ; \\n\"\u001b[0m\u001b[0;34m)\u001b[0m\u001b[0;34m\u001b[0m\u001b[0;34m\u001b[0m\u001b[0m\n\u001b[1;32m      4\u001b[0m \u001b[0mmyFile\u001b[0m\u001b[0;34m.\u001b[0m\u001b[0mwrite\u001b[0m\u001b[0;34m(\u001b[0m\u001b[0;34mf\"Mean Squared Error at step {it} is: {mse_fn()} ; \\n\"\u001b[0m\u001b[0;34m)\u001b[0m\u001b[0;34m\u001b[0m\u001b[0;34m\u001b[0m\u001b[0m\n\u001b[1;32m      5\u001b[0m \u001b[0mmyFile\u001b[0m\u001b[0;34m.\u001b[0m\u001b[0mwrite\u001b[0m\u001b[0;34m(\u001b[0m\u001b[0;34m\"\\n\"\u001b[0m\u001b[0;34m)\u001b[0m\u001b[0;34m\u001b[0m\u001b[0;34m\u001b[0m\u001b[0m\n",
      "\u001b[0;31mNameError\u001b[0m: name 'it' is not defined"
     ]
    }
   ],
   "source": [
    "myFile = open(\"/Users/main/Desktop/EPFL/BA3/Intro. to ML/project/datas.txt\", \"w+\")\n",
    "\n",
    "myFile.write(f\"Accuracy at step {it} is: {accuracy_fn(prediction, labels)} ; \\n\")\n",
    "myFile.write(f\"Macro F1 score at step {it} is: {macrof1_fn(prediction, labels)} ; \\n\")\n",
    "myFile.write(f\"Mean Squared Error at step {it} is: {mse_fn(prediction, labels)} ; \\n\")\n",
    "myFile.write(\"\\n\")\n",
    "myFile.write(\"-------------------------------\\n\")\n",
    "myFile.write(\"\\n\")\n",
    "\n",
    "myFile.close()"
   ]
  },
  {
   "cell_type": "code",
   "execution_count": 11,
   "metadata": {},
   "outputs": [],
   "source": [
    "s = 1\n",
    "accur = f\"Accuracy at step {s} is: \"\n",
    "msc = f\"Macro F1 score at step {s} is: \"\n",
    "mse = f\"Mean Squared Error at step {s} is: \"\n"
   ]
  },
  {
   "cell_type": "code",
   "execution_count": 10,
   "metadata": {},
   "outputs": [
    {
     "name": "stdout",
     "output_type": "stream",
     "text": [
      "Accuracy at step 1 is:\n"
     ]
    }
   ],
   "source": []
  },
  {
   "cell_type": "code",
   "execution_count": null,
   "metadata": {},
   "outputs": [],
   "source": [
    "#Avant la boucle\n",
    "import csv  \n",
    "from metrics import*\n",
    "from matplotlib import pyplot as plt\n",
    "\n",
    "myFileData = open(\"/Users/main/Desktop/EPFL/BA3/Intro. to ML/project/datas.txt\", \"w+\")\n",
    "myFileCSVDATA = open(\"/Users/main/Desktop/EPFL/BA3/Intro. to ML/project/datasCSV\", 'w', encoding='UTF8')\n",
    "myFileCSVDATAwriter = csv.writer(myFileCSVDATA)\n",
    "\n",
    "steps = list()\n",
    "accuracy = list()\n",
    "macro = list()\n",
    "meansquared = list()\n",
    "\n",
    "\n",
    "\n",
    "#Durant la boucle\n",
    "tempAcc = accuracy_fn(prediction, labels)\n",
    "tempMacro = macrof1_fn(prediction, labels)\n",
    "tempMean = mse_fn(prediction, labels)\n",
    "\n",
    "myFileData.write(f\"Accuracy at step {it} is: {tempAcc} ; \\n\")\n",
    "myFileData.write(f\"Macro F1 score at step {it} is: {tempMacro} ; \\n\")\n",
    "myFileData.write(f\"Mean Squared Error at step {it} is: {tempMean} ; \\n\")\n",
    "myFileData.write(\"\\n\")\n",
    "myFileData.write(\"-------------------------------\\n\")\n",
    "myFileData.write(\"\\n\")\n",
    "\n",
    "steps.append(it)\n",
    "accuracy.append(tempAcc)\n",
    "macro.append(tempMacro)\n",
    "meansquared.append(tempMean)\n",
    "\n",
    "\n",
    "#Après la boucle\n",
    "myFileData.close()\n",
    "myFileCSVDATAwriter.writerow(accuracy)\n",
    "myFileCSVDATAwriter.writerow(macro)\n",
    "myFileCSVDATAwriter.writerow(meansquared)\n",
    "myFileCSVDATA.close()\n",
    "\n",
    "#Pour print le graph\n",
    "plt.rcParams[\"figure.figsize\"] = [7.00, 3.50]\n",
    "plt.rcParams[\"figure.autolayout\"] = True\n",
    "\n",
    "headers = (\"Mean Squared Error\", \"Macro F1 Score\", \"Accuracy\")\n",
    "colors = (\"r\", \"y\", \"b\")\n",
    "with open(\"/Users/main/Desktop/EPFL/BA3/Intro. to ML/project/datasCSV\", 'r', encoding='UTF8') as f:\n",
    "    for row in csv.reader(f):\n",
    "        plt.plot(steps, row, color=colors.pop(), label=headers.pop())\n",
    "plt.legend()\n",
    "plt.show()"
   ]
  },
  {
   "cell_type": "code",
   "execution_count": 65,
   "metadata": {},
   "outputs": [
    {
     "name": "stdout",
     "output_type": "stream",
     "text": [
      "[0, 2, 4, 6, 8]\n",
      "[0, 1, 4, 9, 16]\n"
     ]
    },
    {
     "data": {
      "image/png": "[encoded data removed]",
      "text/plain": [
       "<Figure size 720x756 with 3 Axes>"
      ]
     },
     "metadata": {
      "needs_background": "light"
     },
     "output_type": "display_data"
    }
   ],
   "source": [
    "import csv  \n",
    "import matplotlib.pyplot as plt\n",
    "import matplotlib.ticker as plticker\n",
    "\n",
    "\n",
    "\n",
    "myFileCSVDATA = open(\"/Users/main/Desktop/EPFL/BA3/Intro. to ML/project/datasCSV\", 'w', encoding='UTF8')\n",
    "myFileCSVDATAwriter = csv.writer(myFileCSVDATA)\n",
    "\n",
    "\n",
    "headers = [\"Mean Squared Error\", \"Macro F1 Score\", \"Accuracy\"]\n",
    "colors = [\"r\", \"y\", \"b\"]\n",
    "\n",
    "steps = [i for i in range(5)]\n",
    "\n",
    "header = [i for i in range (5)]\n",
    "data = [2 * i for i in range(5)]\n",
    "data2 = [i**2 for i in range(5)]\n",
    "print(data)\n",
    "print(data2)\n",
    "\n",
    "myFileCSVDATAwriter.writerow(header)\n",
    "myFileCSVDATAwriter.writerow(data)\n",
    "myFileCSVDATAwriter.writerow(data2)\n",
    "\n",
    "\n",
    "\n",
    "\n",
    "myFileCSVDATA.close()\n",
    "figure, axis = plt.subplots(1, 3)\n",
    "count = 0\n",
    "\n",
    "\n",
    "\n",
    "with open(\"/Users/main/Desktop/EPFL/BA3/Intro. to ML/project/datasCSV\", 'r', encoding='UTF8') as f:\n",
    "    for row in csv.reader(f):\n",
    "        plt.plot(steps, row, color=colors.pop(), label=headers.pop())\n",
    "        count += 1\n",
    "plt.yticks(np.arange(0, 20))\n",
    "plt.legend()\n",
    "plt.show()"
   ]
  },
  {
   "cell_type": "code",
   "execution_count": null,
   "metadata": {},
   "outputs": [],
   "source": []
  }
 ],
 "metadata": {
  "kernelspec": {
   "display_name": "Python 3",
   "language": "python",
   "name": "python3"
  },
  "language_info": {
   "codemirror_mode": {
    "name": "ipython",
    "version": 3
   },
   "file_extension": ".py",
   "mimetype": "text/x-python",
   "name": "python",
   "nbconvert_exporter": "python",
   "pygments_lexer": "ipython3",
   "version": "3.8.8"
  }
 },
 "nbformat": 4,
 "nbformat_minor": 4
}
